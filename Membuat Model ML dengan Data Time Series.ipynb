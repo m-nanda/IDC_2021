{
  "cells": [
    {
      "cell_type": "code",
      "execution_count": null,
      "metadata": {
        "id": "No_UGhlVGuIm"
      },
      "outputs": [],
      "source": [
        "import csv\n",
        "import tensorflow as tf\n",
        "import numpy as np\n",
        "import urllib\n",
        "import pandas as pd\n",
        "import matplotlib.pyplot as plt\n",
        "! pip install -q kaggle\n",
        "from google.colab import files\n",
        "files.upload()"
      ]
    },
    {
      "cell_type": "code",
      "execution_count": 2,
      "metadata": {
        "colab": {
          "base_uri": "https://localhost:8080/"
        },
        "id": "hWnNzlNtH59Q",
        "outputId": "a6bbd04d-23bd-46e9-f638-891122562fc5"
      },
      "outputs": [
        {
          "name": "stdout",
          "output_type": "stream",
          "text": [
            "Downloading cryptocurrency-timeseries-2020.zip to /content\n",
            " 40% 9.00M/22.7M [00:00<00:00, 91.4MB/s]\n",
            "100% 22.7M/22.7M [00:00<00:00, 111MB/s] \n",
            "Archive:  cryptocurrency-timeseries-2020.zip\n",
            "  inflating: gemini_BTCUSD_2020_1min.csv  \n",
            "  inflating: gemini_ETHUSD_2020_1min.csv  \n",
            "  inflating: gemini_LTCUSD_2020_1min.csv  \n"
          ]
        }
      ],
      "source": [
        "!mkdir ~/.kaggle\n",
        "!mv ./kaggle.json ~/.kaggle/\n",
        "!chmod 600 ~/.kaggle/kaggle.json\n",
        "! kaggle datasets download -d roopahegde/cryptocurrency-timeseries-2020\n",
        "! unzip \\*.zip  && rm *.zip"
      ]
    },
    {
      "cell_type": "code",
      "execution_count": 3,
      "metadata": {
        "colab": {
          "base_uri": "https://localhost:8080/"
        },
        "id": "0_Ck7EafLcHP",
        "outputId": "fc1a2066-48e0-4a88-936e-e42379a0a804"
      },
      "outputs": [
        {
          "name": "stdout",
          "output_type": "stream",
          "text": [
            "<class 'pandas.core.frame.DataFrame'>\n",
            "RangeIndex: 658065 entries, 0 to 658064\n",
            "Data columns (total 8 columns):\n",
            " #   Column          Non-Null Count   Dtype  \n",
            "---  ------          --------------   -----  \n",
            " 0   Unix Timestamp  658065 non-null  float64\n",
            " 1   Date            658065 non-null  object \n",
            " 2   Symbol          658065 non-null  object \n",
            " 3   Open            658065 non-null  float64\n",
            " 4   High            658065 non-null  float64\n",
            " 5   Low             658065 non-null  float64\n",
            " 6   Close           658065 non-null  float64\n",
            " 7   Volume          658065 non-null  float64\n",
            "dtypes: float64(6), object(2)\n",
            "memory usage: 40.2+ MB\n"
          ]
        }
      ],
      "source": [
        "data = pd.read_csv('/content/gemini_BTCUSD_2020_1min.csv')\n",
        "data.info()"
      ]
    },
    {
      "cell_type": "code",
      "execution_count": 4,
      "metadata": {
        "colab": {
          "base_uri": "https://localhost:8080/",
          "height": 204
        },
        "id": "jYHCpxwdMxK_",
        "outputId": "e84e2a2b-58e5-4efc-dceb-5a67b0893ba0"
      },
      "outputs": [
        {
          "data": {
            "text/html": [
              "<div>\n",
              "<style scoped>\n",
              "    .dataframe tbody tr th:only-of-type {\n",
              "        vertical-align: middle;\n",
              "    }\n",
              "\n",
              "    .dataframe tbody tr th {\n",
              "        vertical-align: top;\n",
              "    }\n",
              "\n",
              "    .dataframe thead th {\n",
              "        text-align: right;\n",
              "    }\n",
              "</style>\n",
              "<table border=\"1\" class=\"dataframe\">\n",
              "  <thead>\n",
              "    <tr style=\"text-align: right;\">\n",
              "      <th></th>\n",
              "      <th>Unix Timestamp</th>\n",
              "      <th>Date</th>\n",
              "      <th>Symbol</th>\n",
              "      <th>Open</th>\n",
              "      <th>High</th>\n",
              "      <th>Low</th>\n",
              "      <th>Close</th>\n",
              "      <th>Volume</th>\n",
              "    </tr>\n",
              "  </thead>\n",
              "  <tbody>\n",
              "    <tr>\n",
              "      <th>0</th>\n",
              "      <td>1.618880e+12</td>\n",
              "      <td>4/20/2021 0:02</td>\n",
              "      <td>BTCUSD</td>\n",
              "      <td>55717.47</td>\n",
              "      <td>55723.00</td>\n",
              "      <td>55541.69</td>\n",
              "      <td>55541.69</td>\n",
              "      <td>2.406734</td>\n",
              "    </tr>\n",
              "    <tr>\n",
              "      <th>1</th>\n",
              "      <td>1.618880e+12</td>\n",
              "      <td>4/20/2021 0:01</td>\n",
              "      <td>BTCUSD</td>\n",
              "      <td>55768.94</td>\n",
              "      <td>55849.82</td>\n",
              "      <td>55711.74</td>\n",
              "      <td>55717.47</td>\n",
              "      <td>0.573458</td>\n",
              "    </tr>\n",
              "    <tr>\n",
              "      <th>2</th>\n",
              "      <td>1.618880e+12</td>\n",
              "      <td>4/20/2021 0:00</td>\n",
              "      <td>BTCUSD</td>\n",
              "      <td>55691.79</td>\n",
              "      <td>55793.15</td>\n",
              "      <td>55691.79</td>\n",
              "      <td>55768.94</td>\n",
              "      <td>3.309904</td>\n",
              "    </tr>\n",
              "    <tr>\n",
              "      <th>3</th>\n",
              "      <td>1.618880e+12</td>\n",
              "      <td>4/19/2021 23:59</td>\n",
              "      <td>BTCUSD</td>\n",
              "      <td>55777.86</td>\n",
              "      <td>55777.86</td>\n",
              "      <td>55677.92</td>\n",
              "      <td>55691.79</td>\n",
              "      <td>0.684934</td>\n",
              "    </tr>\n",
              "    <tr>\n",
              "      <th>4</th>\n",
              "      <td>1.618880e+12</td>\n",
              "      <td>4/19/2021 23:58</td>\n",
              "      <td>BTCUSD</td>\n",
              "      <td>55803.50</td>\n",
              "      <td>55823.88</td>\n",
              "      <td>55773.08</td>\n",
              "      <td>55777.86</td>\n",
              "      <td>0.477225</td>\n",
              "    </tr>\n",
              "  </tbody>\n",
              "</table>\n",
              "</div>"
            ],
            "text/plain": [
              "   Unix Timestamp             Date  Symbol  ...       Low     Close    Volume\n",
              "0    1.618880e+12   4/20/2021 0:02  BTCUSD  ...  55541.69  55541.69  2.406734\n",
              "1    1.618880e+12   4/20/2021 0:01  BTCUSD  ...  55711.74  55717.47  0.573458\n",
              "2    1.618880e+12   4/20/2021 0:00  BTCUSD  ...  55691.79  55768.94  3.309904\n",
              "3    1.618880e+12  4/19/2021 23:59  BTCUSD  ...  55677.92  55691.79  0.684934\n",
              "4    1.618880e+12  4/19/2021 23:58  BTCUSD  ...  55773.08  55777.86  0.477225\n",
              "\n",
              "[5 rows x 8 columns]"
            ]
          },
          "execution_count": 4,
          "metadata": {
            "tags": []
          },
          "output_type": "execute_result"
        }
      ],
      "source": [
        "# cek 5 data teratas\n",
        "data.head()"
      ]
    },
    {
      "cell_type": "code",
      "execution_count": 5,
      "metadata": {
        "colab": {
          "base_uri": "https://localhost:8080/"
        },
        "id": "j3GvnItDM9DA",
        "outputId": "ae7669f4-b1d8-4ea4-ab98-1de2a77212b5"
      },
      "outputs": [
        {
          "name": "stdout",
          "output_type": "stream",
          "text": [
            "(526452,) (131613,)\n"
          ]
        }
      ],
      "source": [
        "def windowed_dataset(series, window_size, batch_size, shuffle_buffer):\n",
        "    series = tf.expand_dims(series, axis=-1)\n",
        "    ds = tf.data.Dataset.from_tensor_slices(series)\n",
        "    ds = ds.window(window_size + 1, shift=1, drop_remainder=True)\n",
        "    ds = ds.flat_map(lambda w: w.batch(window_size + 1))\n",
        "    ds = ds.shuffle(shuffle_buffer)\n",
        "    ds = ds.map(lambda w: (w[:-1], w[1:]))\n",
        "    return ds.batch(batch_size).prefetch(1)\n",
        "\n",
        "open = data['Open'].values\n",
        "time_step = [i for i in range(len(open))]\n",
        "series = np.array(open)\n",
        "\n",
        "# Normalisasi data\n",
        "min = np.min(series)\n",
        "max = np.max(series)\n",
        "series -= min\n",
        "series /= max\n",
        "time = np.array(time_step)\n",
        "\n",
        "# Pembagian untuk spitting data\n",
        "split_time = int(len(open)*0.8)\n",
        "\n",
        "# Split data\n",
        "time_train = time[:split_time] \n",
        "x_train = series[:split_time]\n",
        "time_valid = time[split_time:] \n",
        "x_valid = series[split_time:]\n",
        "\n",
        "window_size = 64\n",
        "batch_size = 256\n",
        "shuffle_buffer_size = 1000\n",
        "\n",
        "train_set = windowed_dataset(x_train, window_size=window_size, batch_size=batch_size, shuffle_buffer=shuffle_buffer_size)\n",
        "val_set = windowed_dataset(x_valid, window_size=window_size, batch_size=batch_size, shuffle_buffer=shuffle_buffer_size)\n",
        "print(x_train.shape, x_valid.shape)"
      ]
    },
    {
      "cell_type": "code",
      "execution_count": 7,
      "metadata": {
        "colab": {
          "base_uri": "https://localhost:8080/"
        },
        "id": "TtVAV-aypayZ",
        "outputId": "324af96c-31bf-402a-d431-7d9425cace42"
      },
      "outputs": [
        {
          "name": "stdout",
          "output_type": "stream",
          "text": [
            "Model: \"SCB-LSTM\"\n",
            "_________________________________________________________________\n",
            "Layer (type)                 Output Shape              Param #   \n",
            "=================================================================\n",
            "conv1d_1 (Conv1D)            (None, None, 128)         768       \n",
            "_________________________________________________________________\n",
            "max_pooling1d_1 (MaxPooling1 (None, None, 128)         0         \n",
            "_________________________________________________________________\n",
            "bidirectional_1 (Bidirection (None, 64)                41216     \n",
            "_________________________________________________________________\n",
            "flatten_1 (Flatten)          (None, 64)                0         \n",
            "_________________________________________________________________\n",
            "dense_2 (Dense)              (None, 10)                650       \n",
            "_________________________________________________________________\n",
            "dense_3 (Dense)              (None, 1)                 11        \n",
            "=================================================================\n",
            "Total params: 42,645\n",
            "Trainable params: 42,645\n",
            "Non-trainable params: 0\n",
            "_________________________________________________________________\n"
          ]
        }
      ],
      "source": [
        "class myCallback(tf.keras.callbacks.Callback):\n",
        "    def on_epoch_end(self, epoch, logs={}):\n",
        "        if logs.get('mae')<0.2 and logs.get('val_mae')<0.2:\n",
        "            print('MAE & Val_MAE sudah < 0.2 ...')\n",
        "            self.model.stop_training = True\n",
        "\n",
        "model = tf.keras.models.Sequential([    \n",
        "            tf.keras.layers.Conv1D(filters=128, kernel_size=5,\n",
        "                            strides=1, padding='causal',\n",
        "                            activation='relu',\n",
        "                            input_shape=[None, 1]),\n",
        "            tf.keras.layers.MaxPooling1D(3),\n",
        "            tf.keras.layers.Bidirectional(tf.keras.layers.LSTM(32)),\n",
        "            tf.keras.layers.Flatten(),\n",
        "            tf.keras.layers.Dense(10, activation='relu'),\n",
        "            tf.keras.layers.Dense(1)\n",
        "    ], name='SCB-LSTM')\n",
        "\n",
        "model.summary()\n",
        "\n",
        "optimizer = tf.keras.optimizers.SGD(learning_rate=1e-5, momentum=0.9)\n",
        "\n",
        "model.compile(loss=tf.keras.losses.Huber(),\n",
        "            optimizer=optimizer,\n",
        "            metrics=['mae'])"
      ]
    },
    {
      "cell_type": "code",
      "execution_count": 8,
      "metadata": {
        "colab": {
          "base_uri": "https://localhost:8080/"
        },
        "id": "8buVGpaFo1HS",
        "outputId": "6afb4ec6-5d8d-496c-f98d-4b15e4bfc764"
      },
      "outputs": [
        {
          "name": "stdout",
          "output_type": "stream",
          "text": [
            "Epoch 1/25\n",
            "2057/2057 [==============================] - 278s 133ms/step - loss: 0.0661 - mae: 0.2148 - val_loss: 7.2780e-04 - val_mae: 0.0332\n",
            "Epoch 2/25\n",
            "2057/2057 [==============================] - 270s 131ms/step - loss: 0.0355 - mae: 0.1804 - val_loss: 0.0037 - val_mae: 0.0845\n",
            "MAE & Val_MAE sudah < 0.2 ...\n"
          ]
        }
      ],
      "source": [
        "history = model.fit(train_set, \n",
        "                    validation_data=val_set,\n",
        "                    epochs=25, \n",
        "                    callbacks=[myCallback()],\n",
        "                    )"
      ]
    },
    {
      "cell_type": "code",
      "execution_count": 9,
      "metadata": {
        "colab": {
          "base_uri": "https://localhost:8080/",
          "height": 405
        },
        "id": "sL9U2lyiOhxa",
        "outputId": "8d10aaca-b5d4-4f4d-adf7-85858478fe12"
      },
      "outputs": [
        {
          "data": {
            "text/plain": [
              "<matplotlib.legend.Legend at 0x7fd0e3e16710>"
            ]
          },
          "execution_count": 9,
          "metadata": {
            "tags": []
          },
          "output_type": "execute_result"
        },
        {
          "data": {
            "image/png": "[encoded data removed]",
            "text/plain": [
              "<Figure size 1296x432 with 2 Axes>"
            ]
          },
          "metadata": {
            "needs_background": "light",
            "tags": []
          },
          "output_type": "display_data"
        }
      ],
      "source": [
        "fig, axs = plt.subplots(nrows=1, ncols=2, figsize=(18,6))\n",
        "axs[0].plot(history.history['loss'], color='b', label='Training loss')\n",
        "axs[0].plot(history.history['val_loss'], color='r', label='Validation loss')    \n",
        "axs[0].set_xlabel('epochs')\n",
        "axs[0].set_ylabel('loss')\n",
        "axs[0].legend(loc='best', shadow=True)\n",
        "axs[1].plot(history.history['mae'], color='b', label='Training MAE')\n",
        "axs[1].plot(history.history['val_mae'], color='r', label='Validation MAE')\n",
        "axs[1].set_xlabel('epochs')\n",
        "axs[1].set_ylabel('MAE')\n",
        "axs[1].legend(loc='best', shadow=True)"
      ]
    }
  ],
  "metadata": {
    "colab": {
      "collapsed_sections": [],
      "name": "Proyek Kedua : Membuat Model Machine Learning dengan Data Time Series.ipynb",
      "provenance": []
    },
    "kernelspec": {
      "display_name": "Python 3",
      "name": "python3"
    },
    "language_info": {
      "name": "python"
    }
  },
  "nbformat": 4,
  "nbformat_minor": 0
}
