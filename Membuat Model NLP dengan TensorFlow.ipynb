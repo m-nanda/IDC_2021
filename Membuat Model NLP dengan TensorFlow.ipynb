{
  "cells": [
    {
      "cell_type": "code",
      "execution_count": 1,
      "metadata": {
        "colab": {
          "base_uri": "https://localhost:8080/"
        },
        "id": "vqxJyqZaD6pM",
        "outputId": "cb298ce2-cdef-44d8-ed58-f0cfeaa0154b"
      },
      "outputs": [
        {
          "name": "stdout",
          "output_type": "stream",
          "text": [
            "Drive already mounted at /drive; to attempt to forcibly remount, call drive.mount(\"/drive\", force_remount=True).\n",
            "[nltk_data] Downloading package stopwords to /root/nltk_data...\n",
            "[nltk_data]   Package stopwords is already up-to-date!\n"
          ]
        }
      ],
      "source": [
        "import pandas as pd\n",
        "import numpy as np\n",
        "import matplotlib.pyplot as plt\n",
        "plt.style.use('ggplot')\n",
        "import seaborn as sns\n",
        "from google.colab import drive\n",
        "drive.mount('/drive')\n",
        "import zipfile\n",
        "import nltk\n",
        "nltk.download('stopwords')\n",
        "from nltk.corpus import stopwords\n",
        "import tensorflow as tf\n",
        "from tensorflow.keras.preprocessing.text import Tokenizer\n",
        "from tensorflow.keras.preprocessing.sequence import pad_sequences\n",
        "from sklearn.model_selection import train_test_split\n",
        "from sklearn import metrics\n",
        "from sklearn.preprocessing import MinMaxScaler"
      ]
    },
    {
      "cell_type": "code",
      "execution_count": 2,
      "metadata": {
        "colab": {
          "base_uri": "https://localhost:8080/",
          "height": 204
        },
        "id": "oWEeCm72E3m_",
        "outputId": "af325812-e35f-4a2b-8dda-f6a0223d9690"
      },
      "outputs": [
        {
          "data": {
            "text/html": [
              "<div>\n",
              "<style scoped>\n",
              "    .dataframe tbody tr th:only-of-type {\n",
              "        vertical-align: middle;\n",
              "    }\n",
              "\n",
              "    .dataframe tbody tr th {\n",
              "        vertical-align: top;\n",
              "    }\n",
              "\n",
              "    .dataframe thead th {\n",
              "        text-align: right;\n",
              "    }\n",
              "</style>\n",
              "<table border=\"1\" class=\"dataframe\">\n",
              "  <thead>\n",
              "    <tr style=\"text-align: right;\">\n",
              "      <th></th>\n",
              "      <th>category</th>\n",
              "      <th>text</th>\n",
              "    </tr>\n",
              "  </thead>\n",
              "  <tbody>\n",
              "    <tr>\n",
              "      <th>0</th>\n",
              "      <td>tech</td>\n",
              "      <td>tv future in the hands of viewers with home th...</td>\n",
              "    </tr>\n",
              "    <tr>\n",
              "      <th>1</th>\n",
              "      <td>business</td>\n",
              "      <td>worldcom boss  left books alone  former worldc...</td>\n",
              "    </tr>\n",
              "    <tr>\n",
              "      <th>2</th>\n",
              "      <td>sport</td>\n",
              "      <td>tigers wary of farrell  gamble  leicester say ...</td>\n",
              "    </tr>\n",
              "    <tr>\n",
              "      <th>3</th>\n",
              "      <td>sport</td>\n",
              "      <td>yeading face newcastle in fa cup premiership s...</td>\n",
              "    </tr>\n",
              "    <tr>\n",
              "      <th>4</th>\n",
              "      <td>entertainment</td>\n",
              "      <td>ocean s twelve raids box office ocean s twelve...</td>\n",
              "    </tr>\n",
              "  </tbody>\n",
              "</table>\n",
              "</div>"
            ],
            "text/plain": [
              "        category                                               text\n",
              "0           tech  tv future in the hands of viewers with home th...\n",
              "1       business  worldcom boss  left books alone  former worldc...\n",
              "2          sport  tigers wary of farrell  gamble  leicester say ...\n",
              "3          sport  yeading face newcastle in fa cup premiership s...\n",
              "4  entertainment  ocean s twelve raids box office ocean s twelve..."
            ]
          },
          "execution_count": 2,
          "metadata": {
            "tags": []
          },
          "output_type": "execute_result"
        }
      ],
      "source": [
        "# Me-load data\n",
        "data = pd.read_csv('https://storage.googleapis.com/laurencemoroney-blog.appspot.com/bbc-text.csv')\n",
        "\n",
        "# cek isi data teratas\n",
        "data.head()"
      ]
    },
    {
      "cell_type": "code",
      "execution_count": 3,
      "metadata": {
        "colab": {
          "base_uri": "https://localhost:8080/",
          "height": 204
        },
        "id": "2MrduWc8FQPw",
        "outputId": "53512513-b588-4e6f-f544-42312b8d78c6"
      },
      "outputs": [
        {
          "data": {
            "text/html": [
              "<div>\n",
              "<style scoped>\n",
              "    .dataframe tbody tr th:only-of-type {\n",
              "        vertical-align: middle;\n",
              "    }\n",
              "\n",
              "    .dataframe tbody tr th {\n",
              "        vertical-align: top;\n",
              "    }\n",
              "\n",
              "    .dataframe thead th {\n",
              "        text-align: right;\n",
              "    }\n",
              "</style>\n",
              "<table border=\"1\" class=\"dataframe\">\n",
              "  <thead>\n",
              "    <tr style=\"text-align: right;\">\n",
              "      <th></th>\n",
              "      <th>category</th>\n",
              "      <th>text</th>\n",
              "    </tr>\n",
              "  </thead>\n",
              "  <tbody>\n",
              "    <tr>\n",
              "      <th>2220</th>\n",
              "      <td>business</td>\n",
              "      <td>cars pull down us retail figures us retail sal...</td>\n",
              "    </tr>\n",
              "    <tr>\n",
              "      <th>2221</th>\n",
              "      <td>politics</td>\n",
              "      <td>kilroy unveils immigration policy ex-chatshow ...</td>\n",
              "    </tr>\n",
              "    <tr>\n",
              "      <th>2222</th>\n",
              "      <td>entertainment</td>\n",
              "      <td>rem announce new glasgow concert us band rem h...</td>\n",
              "    </tr>\n",
              "    <tr>\n",
              "      <th>2223</th>\n",
              "      <td>politics</td>\n",
              "      <td>how political squabbles snowball it s become c...</td>\n",
              "    </tr>\n",
              "    <tr>\n",
              "      <th>2224</th>\n",
              "      <td>sport</td>\n",
              "      <td>souness delight at euro progress boss graeme s...</td>\n",
              "    </tr>\n",
              "  </tbody>\n",
              "</table>\n",
              "</div>"
            ],
            "text/plain": [
              "           category                                               text\n",
              "2220       business  cars pull down us retail figures us retail sal...\n",
              "2221       politics  kilroy unveils immigration policy ex-chatshow ...\n",
              "2222  entertainment  rem announce new glasgow concert us band rem h...\n",
              "2223       politics  how political squabbles snowball it s become c...\n",
              "2224          sport  souness delight at euro progress boss graeme s..."
            ]
          },
          "execution_count": 3,
          "metadata": {
            "tags": []
          },
          "output_type": "execute_result"
        }
      ],
      "source": [
        "# cek isi 5 baris terbawah data\n",
        "data.tail()"
      ]
    },
    {
      "cell_type": "code",
      "execution_count": 4,
      "metadata": {
        "colab": {
          "base_uri": "https://localhost:8080/"
        },
        "id": "HOTWCzLdFTI1",
        "outputId": "4b25e00b-c9d5-4114-fa01-99f7afe2a548"
      },
      "outputs": [
        {
          "name": "stdout",
          "output_type": "stream",
          "text": [
            "<class 'pandas.core.frame.DataFrame'>\n",
            "RangeIndex: 2225 entries, 0 to 2224\n",
            "Data columns (total 2 columns):\n",
            " #   Column    Non-Null Count  Dtype \n",
            "---  ------    --------------  ----- \n",
            " 0   category  2225 non-null   object\n",
            " 1   text      2225 non-null   object\n",
            "dtypes: object(2)\n",
            "memory usage: 34.9+ KB\n"
          ]
        }
      ],
      "source": [
        "# cek info data\n",
        "data.info()"
      ]
    },
    {
      "cell_type": "code",
      "execution_count": 5,
      "metadata": {
        "colab": {
          "base_uri": "https://localhost:8080/"
        },
        "id": "iV5L_AL8FVba",
        "outputId": "ac632dae-257d-4e76-9d3a-1475f9c20b13"
      },
      "outputs": [
        {
          "data": {
            "text/plain": [
              "sport            511\n",
              "business         510\n",
              "politics         417\n",
              "tech             401\n",
              "entertainment    386\n",
              "Name: category, dtype: int64"
            ]
          },
          "execution_count": 5,
          "metadata": {
            "tags": []
          },
          "output_type": "execute_result"
        }
      ],
      "source": [
        "# cek distribusi label\n",
        "data['category'].value_counts()"
      ]
    },
    {
      "cell_type": "code",
      "execution_count": 6,
      "metadata": {
        "id": "RfhDbsocFfQt"
      },
      "outputs": [],
      "source": [
        "# Fungsi untuk menghapus stopwords\n",
        "def remove_stopwords(kalimat):\n",
        "    for kata in stopwords.words('english'):\n",
        "        token = ' '+kata+' '\n",
        "        kalimat = kalimat.lower().replace(token, ' ')\n",
        "    return kalimat"
      ]
    },
    {
      "cell_type": "code",
      "execution_count": 7,
      "metadata": {
        "id": "grdg0hcRFjxU"
      },
      "outputs": [],
      "source": [
        "vocab_size = 1000\n",
        "embedding_dim = 16\n",
        "max_length = 120\n",
        "padding_type='post'\n",
        "oov_tok = '-'\n",
        "data_clean = data.copy()\n",
        "\n",
        "# Mmebuang stopword pada kalimat\n",
        "label = data_clean['category']\n",
        "kalimat = data_clean['text'].apply(lambda u:remove_stopwords(u))\n",
        "\n",
        "# Split data\n",
        "kalimat_train, kalimat_test, label_train, label_test = train_test_split(kalimat, \n",
        "                                                                        label,\n",
        "                                                                        test_size=0.2,\n",
        "                                                                        random_state=42)\n",
        "\n",
        "# Tokenisasi\n",
        "tokenizer = Tokenizer(num_words = vocab_size, oov_token=oov_tok)\n",
        "tokenizer.fit_on_texts(kalimat_train)\n",
        "tokenizer.fit_on_texts(kalimat_test)\n",
        "label_tokenizer = Tokenizer()\n",
        "label_tokenizer.fit_on_texts(label)\n",
        "\n",
        "# Konversi teks ke sequence\n",
        "seq_kalimat_train = tokenizer.texts_to_sequences(kalimat_train)\n",
        "seq_kalimat_test = tokenizer.texts_to_sequences(kalimat_test)\n",
        "\n",
        "# Padding teks\n",
        "padded_seq_kalimat_train = pad_sequences(seq_kalimat_train, padding=padding_type, maxlen=max_length)\n",
        "padded_seq_kalimat_test = pad_sequences(seq_kalimat_test, padding=padding_type, maxlen=max_length)\n",
        "label_train_seq = np.array(label_tokenizer.texts_to_sequences(label_train))\n",
        "label_test_seq = np.array(label_tokenizer.texts_to_sequences(label_test))"
      ]
    },
    {
      "cell_type": "code",
      "execution_count": 8,
      "metadata": {
        "colab": {
          "base_uri": "https://localhost:8080/"
        },
        "id": "EAFmrJlpIEN6",
        "outputId": "36619358-522c-4737-9e3b-64a297b7351d"
      },
      "outputs": [
        {
          "name": "stdout",
          "output_type": "stream",
          "text": [
            "Model: \"Simple-BiLSTM\"\n",
            "_________________________________________________________________\n",
            "Layer (type)                 Output Shape              Param #   \n",
            "=================================================================\n",
            "embedding (Embedding)        (None, 120, 16)           16000     \n",
            "_________________________________________________________________\n",
            "bidirectional (Bidirectional (None, 120, 200)          93600     \n",
            "_________________________________________________________________\n",
            "global_average_pooling1d (Gl (None, 200)               0         \n",
            "_________________________________________________________________\n",
            "dense (Dense)                (None, 100)               20100     \n",
            "_________________________________________________________________\n",
            "dropout (Dropout)            (None, 100)               0         \n",
            "_________________________________________________________________\n",
            "dense_1 (Dense)              (None, 6)                 606       \n",
            "=================================================================\n",
            "Total params: 130,306\n",
            "Trainable params: 130,306\n",
            "Non-trainable params: 0\n",
            "_________________________________________________________________\n"
          ]
        }
      ],
      "source": [
        "tf.random.set_seed(42)\n",
        "\n",
        "class myCallback(tf.keras.callbacks.Callback):\n",
        "    def on_epoch_end(self, epoch, logs={}):\n",
        "        if logs.get('accuracy')>0.95 and (logs.get('val_accuracy') > 0.91):\n",
        "            print('Acc dan Val Acc sudah >= 91%...')\n",
        "            self.model.stop_training = True\n",
        "\n",
        "model = tf.keras.Sequential(name='Simple-BiLSTM', layers=[\n",
        "            tf.keras.layers.Embedding(vocab_size, embedding_dim, input_length=max_length), \n",
        "            tf.keras.layers.Bidirectional(tf.keras.layers.LSTM(100, return_sequences=True)),\n",
        "            tf.keras.layers.GlobalAveragePooling1D(),\n",
        "            tf.keras.layers.Dense(100, activation='relu'),\n",
        "            tf.keras.layers.Dropout(0.2),\n",
        "            tf.keras.layers.Dense(6, activation='softmax')\n",
        "            ])\n",
        "\n",
        "model.summary()\n",
        "\n",
        "model.compile(loss='sparse_categorical_crossentropy', optimizer=tf.keras.optimizers.RMSprop(learning_rate=0.01), metrics=['accuracy'])"
      ]
    },
    {
      "cell_type": "code",
      "execution_count": 9,
      "metadata": {
        "colab": {
          "base_uri": "https://localhost:8080/"
        },
        "id": "0Lfr737aIWsu",
        "outputId": "5996ec0c-11d3-49b1-9f45-805c41d65c7b"
      },
      "outputs": [
        {
          "name": "stdout",
          "output_type": "stream",
          "text": [
            "Epoch 1/100\n",
            "56/56 [==============================] - 13s 165ms/step - loss: 1.8188 - accuracy: 0.3197 - val_loss: 1.9080 - val_accuracy: 0.2944\n",
            "Epoch 2/100\n",
            "56/56 [==============================] - 8s 148ms/step - loss: 0.8551 - accuracy: 0.6736 - val_loss: 0.3481 - val_accuracy: 0.8787\n",
            "Epoch 3/100\n",
            "56/56 [==============================] - 8s 149ms/step - loss: 0.5038 - accuracy: 0.8629 - val_loss: 0.4578 - val_accuracy: 0.8247\n",
            "Epoch 4/100\n",
            "56/56 [==============================] - 8s 147ms/step - loss: 0.1765 - accuracy: 0.9410 - val_loss: 0.2657 - val_accuracy: 0.9101\n",
            "Epoch 5/100\n",
            "56/56 [==============================] - 8s 150ms/step - loss: 0.1188 - accuracy: 0.9612 - val_loss: 0.2848 - val_accuracy: 0.9056\n",
            "Epoch 6/100\n",
            "56/56 [==============================] - 8s 150ms/step - loss: 0.0684 - accuracy: 0.9826 - val_loss: 0.4324 - val_accuracy: 0.8719\n",
            "Epoch 7/100\n",
            "56/56 [==============================] - 8s 150ms/step - loss: 0.0844 - accuracy: 0.9798 - val_loss: 0.2912 - val_accuracy: 0.9326\n",
            "Acc dan Val Acc sudah >= 91%...\n"
          ]
        }
      ],
      "source": [
        "history = model.fit(padded_seq_kalimat_train, label_train_seq, epochs=100,\n",
        "                    validation_data=(padded_seq_kalimat_test, label_test_seq), \n",
        "                    verbose=1,\n",
        "                    callbacks=[myCallback()])"
      ]
    },
    {
      "cell_type": "code",
      "execution_count": 11,
      "metadata": {
        "colab": {
          "base_uri": "https://localhost:8080/",
          "height": 408
        },
        "id": "q5twC49GIjz_",
        "outputId": "0b0ebf57-8ae1-4ab2-e35e-60d2e583ba84"
      },
      "outputs": [
        {
          "data": {
            "text/plain": [
              "<matplotlib.legend.Legend at 0x7f4ac04f5ed0>"
            ]
          },
          "execution_count": 11,
          "metadata": {
            "tags": []
          },
          "output_type": "execute_result"
        },
        {
          "data": {
            "image/png": "[encoded data removed]",
            "text/plain": [
              "<Figure size 1296x432 with 2 Axes>"
            ]
          },
          "metadata": {
            "needs_background": "light",
            "tags": []
          },
          "output_type": "display_data"
        }
      ],
      "source": [
        "fig, axs = plt.subplots(nrows=1, ncols=2, figsize=(18,6))\n",
        "axs[0].plot(history.history['loss'], color='b', label='Training loss')\n",
        "axs[0].plot(history.history['val_loss'], color='r', label='Validation loss')    \n",
        "axs[0].set_xlabel('epochs')\n",
        "axs[0].set_ylabel('loss')\n",
        "axs[0].legend(loc='best', shadow=True)\n",
        "axs[1].plot(history.history['accuracy'], color='b', label='Training accuracy')\n",
        "axs[1].plot(history.history['val_accuracy'], color='r', label='Validation accuracy')\n",
        "axs[1].set_xlabel('epochs')\n",
        "axs[1].set_ylabel('Accuracy')\n",
        "axs[1].legend(loc='best', shadow=True)"
      ]
    }
  ],
  "metadata": {
    "colab": {
      "collapsed_sections": [],
      "name": "Proyek Pertama : Membuat Model NLP dengan TensorFlow.ipynb",
      "provenance": []
    },
    "kernelspec": {
      "display_name": "Python 3",
      "name": "python3"
    },
    "language_info": {
      "name": "python"
    }
  },
  "nbformat": 4,
  "nbformat_minor": 0
}
